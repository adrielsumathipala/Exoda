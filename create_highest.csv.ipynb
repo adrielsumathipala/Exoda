{
 "cells": [
  {
   "cell_type": "code",
   "execution_count": 11,
   "metadata": {},
   "outputs": [],
   "source": [
    "import pandas as pd\n",
    "\n",
    "refugee_table = pd.read_csv(\"clean_unhcr_refugee.csv\", delimiter=',', encoding=\"latin-1\")\n",
    "\n",
    "refugee_table = refugee_table.loc[refugee_table[\"asylum\"] == \"United States of America\"]\n",
    "\n",
    "total = refugee_table.groupby([\"asylum\", \"year\"]).sum().reset_index().set_index(\"asylum\")"
   ]
  },
  {
   "cell_type": "code",
   "execution_count": 10,
   "metadata": {},
   "outputs": [],
   "source": [
    "total.to_csv(\"usa.csv\", header = True)"
   ]
  },
  {
   "cell_type": "code",
   "execution_count": 28,
   "metadata": {},
   "outputs": [],
   "source": [
    "refugee_table = pd.read_csv(\"clean_unhcr_refugee.csv\", delimiter=',', encoding=\"latin-1\")\n",
    "\n",
    "\n",
    "highest = refugee_table.loc[refugee_table[\"year\"] >= 1980].groupby(\"asylum\").sum().sort_values(\"refugees\", ascending = False).iloc[range(0,10)].drop(\"year\", axis = 1)\n",
    "highest.to_csv(\"most_refugees.csv\", header = True)"
   ]
  },
  {
   "cell_type": "code",
   "execution_count": 34,
   "metadata": {},
   "outputs": [
    {
     "data": {
      "text/html": [
       "<div>\n",
       "<style scoped>\n",
       "    .dataframe tbody tr th:only-of-type {\n",
       "        vertical-align: middle;\n",
       "    }\n",
       "\n",
       "    .dataframe tbody tr th {\n",
       "        vertical-align: top;\n",
       "    }\n",
       "\n",
       "    .dataframe thead th {\n",
       "        text-align: right;\n",
       "    }\n",
       "</style>\n",
       "<table border=\"1\" class=\"dataframe\">\n",
       "  <thead>\n",
       "    <tr style=\"text-align: right;\">\n",
       "      <th></th>\n",
       "      <th>refugees</th>\n",
       "    </tr>\n",
       "    <tr>\n",
       "      <th>asylum</th>\n",
       "      <th></th>\n",
       "    </tr>\n",
       "  </thead>\n",
       "  <tbody>\n",
       "    <tr>\n",
       "      <th>United States of America</th>\n",
       "      <td>21483264</td>\n",
       "    </tr>\n",
       "    <tr>\n",
       "      <th>Canada</th>\n",
       "      <td>20831534</td>\n",
       "    </tr>\n",
       "    <tr>\n",
       "      <th>Sweden</th>\n",
       "      <td>17356215</td>\n",
       "    </tr>\n",
       "    <tr>\n",
       "      <th>Germany</th>\n",
       "      <td>14236198</td>\n",
       "    </tr>\n",
       "    <tr>\n",
       "      <th>Netherlands</th>\n",
       "      <td>14148368</td>\n",
       "    </tr>\n",
       "    <tr>\n",
       "      <th>Italy</th>\n",
       "      <td>13717363</td>\n",
       "    </tr>\n",
       "    <tr>\n",
       "      <th>Australia</th>\n",
       "      <td>13333147</td>\n",
       "    </tr>\n",
       "    <tr>\n",
       "      <th>United Kingdom</th>\n",
       "      <td>13078451</td>\n",
       "    </tr>\n",
       "    <tr>\n",
       "      <th>France</th>\n",
       "      <td>12584412</td>\n",
       "    </tr>\n",
       "    <tr>\n",
       "      <th>Switzerland</th>\n",
       "      <td>11913758</td>\n",
       "    </tr>\n",
       "  </tbody>\n",
       "</table>\n",
       "</div>"
      ],
      "text/plain": [
       "                          refugees\n",
       "asylum                            \n",
       "United States of America  21483264\n",
       "Canada                    20831534\n",
       "Sweden                    17356215\n",
       "Germany                   14236198\n",
       "Netherlands               14148368\n",
       "Italy                     13717363\n",
       "Australia                 13333147\n",
       "United Kingdom            13078451\n",
       "France                    12584412\n",
       "Switzerland               11913758"
      ]
     },
     "execution_count": 34,
     "metadata": {},
     "output_type": "execute_result"
    }
   ],
   "source": [
    "highest = refugee_table.loc[refugee_table[\"year\"] >= 1980].groupby(\"asylum\").sum().sort_values(\"refugees\", ascending = False).iloc[range(0,10)].drop(\"year\", axis = 1)\n",
    "highest = highest.replace(\"United States of America\", \"US\")\n",
    "highest"
   ]
  },
  {
   "cell_type": "code",
   "execution_count": null,
   "metadata": {},
   "outputs": [],
   "source": []
  }
 ],
 "metadata": {
  "kernelspec": {
   "display_name": "Python 3",
   "language": "python",
   "name": "python3"
  },
  "language_info": {
   "codemirror_mode": {
    "name": "ipython",
    "version": 3
   },
   "file_extension": ".py",
   "mimetype": "text/x-python",
   "name": "python",
   "nbconvert_exporter": "python",
   "pygments_lexer": "ipython3",
   "version": "3.7.1"
  }
 },
 "nbformat": 4,
 "nbformat_minor": 2
}
